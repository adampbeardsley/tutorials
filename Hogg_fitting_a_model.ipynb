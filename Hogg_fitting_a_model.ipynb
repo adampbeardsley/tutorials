{
 "cells": [
  {
   "cell_type": "markdown",
   "metadata": {},
   "source": [
    "# Intro\n",
    "This is a notebook to work through David Hogg's \"Data analysis recipes: Fitting a model to data\" (https://arxiv.org/abs/1008.4686)"
   ]
  },
  {
   "cell_type": "code",
   "execution_count": null,
   "metadata": {
    "collapsed": true
   },
   "outputs": [],
   "source": [
    "%matplotlib inline\n",
    "import numpy as np\n",
    "import matplotlib.pyplot as plt"
   ]
  },
  {
   "cell_type": "markdown",
   "metadata": {},
   "source": [
    "## Section 1 - Standard Practice\n",
    "### Exercise 1"
   ]
  },
  {
   "cell_type": "code",
   "execution_count": null,
   "metadata": {
    "collapsed": false
   },
   "outputs": [],
   "source": [
    "x = np.array([203, 58, 210, 202, 198, 158, 165, 201, 157,\n",
    "              131, 166, 160, 186, 125, 218, 146]).astype(np.float64)\n",
    "y = np.array([495, 173, 479, 504, 510, 416, 393, 442, 317,\n",
    "              311, 400, 337, 423, 334, 533, 344]).astype(np.float64)\n",
    "sigma_y = np.array([21, 15, 27, 14, 30, 16, 14, 25, 52,\n",
    "                    16, 34, 31, 42, 26, 16, 22]).astype(np.float64)\n",
    "covar = np.diag(sigma_y**2.0)\n",
    "covar_inv = np.linalg.inv(covar)\n",
    "A = np.stack([np.ones_like(x), x]).transpose()"
   ]
  },
  {
   "cell_type": "code",
   "execution_count": null,
   "metadata": {
    "collapsed": false
   },
   "outputs": [],
   "source": [
    "invmat = np.linalg.inv(np.dot(A.transpose(), np.dot(covar_inv, A)))"
   ]
  },
  {
   "cell_type": "code",
   "execution_count": null,
   "metadata": {
    "collapsed": false
   },
   "outputs": [],
   "source": [
    "bm = np.dot(invmat, np.dot(A.transpose(), np.dot(covar_inv, y)))"
   ]
  },
  {
   "cell_type": "code",
   "execution_count": null,
   "metadata": {
    "collapsed": false
   },
   "outputs": [],
   "source": [
    "# Print our answers for intercept (b) and slope (m)\n",
    "bm"
   ]
  },
  {
   "cell_type": "code",
   "execution_count": null,
   "metadata": {
    "collapsed": false
   },
   "outputs": [],
   "source": [
    "# Plot the data and the fitted line\n",
    "plt.errorbar(x, y, yerr=sigma_y, fmt='o')\n",
    "plt.plot(np.arange(300), bm[1] * np.arange(300) + bm[0])\n",
    "plt.xlim([0, 300]); plt.ylim([0, 700]);\n",
    "plt.xlabel('x'); plt.ylabel('y')"
   ]
  },
  {
   "cell_type": "code",
   "execution_count": null,
   "metadata": {
    "collapsed": false
   },
   "outputs": [],
   "source": [
    "# invmat is the covariance matrix of our fit parameters.\n",
    "# So the uncertainty variance, sigma^2_m, on the slope\n",
    "# is the (1, 1) element of this matrix.\n",
    "invmat[1, 1]"
   ]
  },
  {
   "cell_type": "markdown",
   "metadata": {},
   "source": [
    "### Exercise 2\n",
    "Add more data"
   ]
  },
  {
   "cell_type": "code",
   "execution_count": null,
   "metadata": {
    "collapsed": true
   },
   "outputs": [],
   "source": [
    "x = np.array([201, 244, 47, 287, 203, 58, 210, 202, 198, 158,\n",
    "              165, 201, 157, 131, 166, 160, 186, 125, 218, 146]).astype(np.float64)\n",
    "y = np.array([592, 401, 583, 402, 495, 173, 479, 504, 510,\n",
    "              416, 393, 442, 317, 311, 400, 337, 423, 334, 533, 344]).astype(np.float64)\n",
    "sigma_y = np.array([61, 25, 38, 15, 21, 15, 27, 14, 30, 16,\n",
    "                    14, 25, 52, 16, 34, 31, 42, 26, 16, 22]).astype(np.float64)\n",
    "covar = np.diag(sigma_y**2.0)\n",
    "covar_inv = np.linalg.inv(covar)\n",
    "A = np.stack([np.ones_like(x), x]).transpose()"
   ]
  },
  {
   "cell_type": "code",
   "execution_count": null,
   "metadata": {
    "collapsed": false
   },
   "outputs": [],
   "source": [
    "invmat = np.linalg.inv(np.dot(A.transpose(), np.dot(covar_inv, A)))\n",
    "bm = np.dot(invmat, np.dot(A.transpose(), np.dot(covar_inv, y)))\n",
    "print(bm)"
   ]
  },
  {
   "cell_type": "code",
   "execution_count": null,
   "metadata": {
    "collapsed": false
   },
   "outputs": [],
   "source": [
    "# Plot the data and the fitted line\n",
    "plt.errorbar(x, y, yerr=sigma_y, fmt='o')\n",
    "plt.plot(np.arange(300), bm[1] * np.arange(300) + bm[0])\n",
    "plt.xlim([0, 300]); plt.ylim([0, 700]);\n",
    "plt.xlabel('x'); plt.ylabel('y')"
   ]
  },
  {
   "cell_type": "code",
   "execution_count": null,
   "metadata": {
    "collapsed": false
   },
   "outputs": [],
   "source": [
    "# Uncertainty variance on slope:\n",
    "invmat[1, 1]"
   ]
  },
  {
   "cell_type": "markdown",
   "metadata": {},
   "source": [
    "So what we see here is that the new data points (four of them) seem to\n",
    "not agree with the other 16 points, causing the data to look more scattered.\n",
    "However, they have very small error bars, and so the uncertainty on the\n",
    "fit dropped."
   ]
  },
  {
   "cell_type": "markdown",
   "metadata": {},
   "source": [
    "### Exercise 3\n",
    "Generalize to quadratic"
   ]
  },
  {
   "cell_type": "code",
   "execution_count": null,
   "metadata": {
    "collapsed": true
   },
   "outputs": [],
   "source": [
    "x = np.array([203, 58, 210, 202, 198, 158, 165, 201, 157,\n",
    "              131, 166, 160, 186, 125, 218, 146]).astype(np.float64)\n",
    "y = np.array([495, 173, 479, 504, 510, 416, 393, 442, 317,\n",
    "              311, 400, 337, 423, 334, 533, 344]).astype(np.float64)\n",
    "sigma_y = np.array([21, 15, 27, 14, 30, 16, 14, 25, 52,\n",
    "                    16, 34, 31, 42, 26, 16, 22]).astype(np.float64)\n",
    "covar = np.diag(sigma_y**2.0)\n",
    "covar_inv = np.linalg.inv(covar)\n",
    "A = np.stack([np.ones_like(x), x, x**2.0]).transpose()"
   ]
  },
  {
   "cell_type": "code",
   "execution_count": null,
   "metadata": {
    "collapsed": false
   },
   "outputs": [],
   "source": [
    "invmat = np.linalg.inv(np.dot(A.transpose(), np.dot(covar_inv, A)))\n",
    "bmq = np.dot(invmat, np.dot(A.transpose(), np.dot(covar_inv, y)))\n",
    "print(bmq)"
   ]
  },
  {
   "cell_type": "code",
   "execution_count": null,
   "metadata": {
    "collapsed": false
   },
   "outputs": [],
   "source": [
    "# Plot the data and the fitted line\n",
    "plt.errorbar(x, y, yerr=sigma_y, fmt='o')\n",
    "plt.plot(np.arange(300), bmq[2] * np.arange(300)**2.0 + bmq[1] * np.arange(300) + bmq[0])\n",
    "plt.xlim([0, 300]); plt.ylim([0, 700]);\n",
    "plt.xlabel('x'); plt.ylabel('y')"
   ]
  },
  {
   "cell_type": "code",
   "execution_count": null,
   "metadata": {
    "collapsed": true
   },
   "outputs": [],
   "source": []
  }
 ],
 "metadata": {
  "anaconda-cloud": {},
  "kernelspec": {
   "display_name": "Python [conda env:tutorials]",
   "language": "python",
   "name": "conda-env-tutorials-py"
  },
  "language_info": {
   "codemirror_mode": {
    "name": "ipython",
    "version": 2
   },
   "file_extension": ".py",
   "mimetype": "text/x-python",
   "name": "python",
   "nbconvert_exporter": "python",
   "pygments_lexer": "ipython2",
   "version": "2.7.12"
  }
 },
 "nbformat": 4,
 "nbformat_minor": 1
}
